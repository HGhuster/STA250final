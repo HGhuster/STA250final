{
 "cells": [
  {
   "cell_type": "code",
   "execution_count": 3,
   "metadata": {},
   "outputs": [],
   "source": [
    "import numpy as np\n",
    "import pandas as pd\n",
    "import matplotlib.pyplot as plt"
   ]
  },
  {
   "cell_type": "code",
   "execution_count": 86,
   "metadata": {},
   "outputs": [],
   "source": [
    "Data_gas=pd.read_csv(\"../Data/gas_price_2004.csv\")\n",
    "Data_oil=pd.read_csv(\"../Data/oil_price_2004.csv\")\n",
    "Data_car=pd.read_csv(\"../Data/car_price_2004.csv\")\n",
    "Data_flight=pd.read_csv(\"../Data/flight_price_2004.csv\")\n",
    "Data_hotel=pd.read_csv(\"../Data/hotel_price_2004.csv\")\n",
    "Data_beef=pd.read_csv(\"../Data/beef_price_2004.csv\")\n",
    "Data_milk=pd.read_csv(\"../Data/milk_price_2004.csv\")"
   ]
  },
  {
   "cell_type": "code",
   "execution_count": 87,
   "metadata": {},
   "outputs": [],
   "source": [
    "Data=pd.concat([Data_gas,Data_oil,Data_car,Data_flight,Data_hotel,Data_beef,Data_milk],axis=1)"
   ]
  },
  {
   "cell_type": "code",
   "execution_count": 88,
   "metadata": {},
   "outputs": [],
   "source": [
    "Data=Data.drop(index='月份')\n",
    "Data.columns=['gas','oil','car','flight','hotel','beef','milk']\n",
    "Data=Data.apply(pd.to_numeric)"
   ]
  },
  {
   "cell_type": "code",
   "execution_count": 94,
   "metadata": {},
   "outputs": [],
   "source": [
    "Data=Data.add(1,fill_value=0)"
   ]
  },
  {
   "cell_type": "code",
   "execution_count": 95,
   "metadata": {},
   "outputs": [],
   "source": [
    "Data_trend=Data.pct_change()"
   ]
  },
  {
   "cell_type": "code",
   "execution_count": 96,
   "metadata": {
    "scrolled": true
   },
   "outputs": [],
   "source": [
    "Data_trend=Data_trend.drop(index='2004-01')"
   ]
  },
  {
   "cell_type": "code",
   "execution_count": 97,
   "metadata": {},
   "outputs": [
    {
     "data": {
      "text/html": [
       "<div>\n",
       "<style scoped>\n",
       "    .dataframe tbody tr th:only-of-type {\n",
       "        vertical-align: middle;\n",
       "    }\n",
       "\n",
       "    .dataframe tbody tr th {\n",
       "        vertical-align: top;\n",
       "    }\n",
       "\n",
       "    .dataframe thead th {\n",
       "        text-align: right;\n",
       "    }\n",
       "</style>\n",
       "<table border=\"1\" class=\"dataframe\">\n",
       "  <thead>\n",
       "    <tr style=\"text-align: right;\">\n",
       "      <th></th>\n",
       "      <th>gas</th>\n",
       "      <th>oil</th>\n",
       "      <th>car</th>\n",
       "      <th>flight</th>\n",
       "      <th>hotel</th>\n",
       "      <th>beef</th>\n",
       "      <th>milk</th>\n",
       "    </tr>\n",
       "  </thead>\n",
       "  <tbody>\n",
       "    <tr>\n",
       "      <th>2004-02</th>\n",
       "      <td>-0.142857</td>\n",
       "      <td>0.500000</td>\n",
       "      <td>-0.079365</td>\n",
       "      <td>-0.360000</td>\n",
       "      <td>0.098039</td>\n",
       "      <td>-0.142857</td>\n",
       "      <td>0.333333</td>\n",
       "    </tr>\n",
       "    <tr>\n",
       "      <th>2004-03</th>\n",
       "      <td>0.333333</td>\n",
       "      <td>-0.111111</td>\n",
       "      <td>0.051724</td>\n",
       "      <td>1.125000</td>\n",
       "      <td>0.214286</td>\n",
       "      <td>-0.083333</td>\n",
       "      <td>0.750000</td>\n",
       "    </tr>\n",
       "    <tr>\n",
       "      <th>2004-04</th>\n",
       "      <td>0.250000</td>\n",
       "      <td>0.000000</td>\n",
       "      <td>0.065574</td>\n",
       "      <td>-0.235294</td>\n",
       "      <td>-0.264706</td>\n",
       "      <td>-0.909091</td>\n",
       "      <td>-0.441558</td>\n",
       "    </tr>\n",
       "    <tr>\n",
       "      <th>2004-05</th>\n",
       "      <td>1.300000</td>\n",
       "      <td>0.625000</td>\n",
       "      <td>-0.076923</td>\n",
       "      <td>-0.307692</td>\n",
       "      <td>0.200000</td>\n",
       "      <td>14.000000</td>\n",
       "      <td>0.604651</td>\n",
       "    </tr>\n",
       "    <tr>\n",
       "      <th>2004-06</th>\n",
       "      <td>-0.565217</td>\n",
       "      <td>-0.230769</td>\n",
       "      <td>0.116667</td>\n",
       "      <td>1.277778</td>\n",
       "      <td>-0.166667</td>\n",
       "      <td>0.066667</td>\n",
       "      <td>-0.246377</td>\n",
       "    </tr>\n",
       "    <tr>\n",
       "      <th>...</th>\n",
       "      <td>...</td>\n",
       "      <td>...</td>\n",
       "      <td>...</td>\n",
       "      <td>...</td>\n",
       "      <td>...</td>\n",
       "      <td>...</td>\n",
       "      <td>...</td>\n",
       "    </tr>\n",
       "    <tr>\n",
       "      <th>2022-10</th>\n",
       "      <td>0.028571</td>\n",
       "      <td>0.038462</td>\n",
       "      <td>0.025974</td>\n",
       "      <td>-0.059524</td>\n",
       "      <td>-0.128205</td>\n",
       "      <td>-0.030303</td>\n",
       "      <td>-0.089744</td>\n",
       "    </tr>\n",
       "    <tr>\n",
       "      <th>2022-11</th>\n",
       "      <td>-0.222222</td>\n",
       "      <td>-0.111111</td>\n",
       "      <td>-0.088608</td>\n",
       "      <td>0.063291</td>\n",
       "      <td>-0.029412</td>\n",
       "      <td>-0.015625</td>\n",
       "      <td>0.014085</td>\n",
       "    </tr>\n",
       "    <tr>\n",
       "      <th>2022-12</th>\n",
       "      <td>0.071429</td>\n",
       "      <td>-0.041667</td>\n",
       "      <td>0.027778</td>\n",
       "      <td>0.000000</td>\n",
       "      <td>0.045455</td>\n",
       "      <td>0.365079</td>\n",
       "      <td>-0.138889</td>\n",
       "    </tr>\n",
       "    <tr>\n",
       "      <th>2023-01</th>\n",
       "      <td>-0.100000</td>\n",
       "      <td>-0.130435</td>\n",
       "      <td>0.094595</td>\n",
       "      <td>0.190476</td>\n",
       "      <td>0.072464</td>\n",
       "      <td>-0.139535</td>\n",
       "      <td>0.225806</td>\n",
       "    </tr>\n",
       "    <tr>\n",
       "      <th>2023-02</th>\n",
       "      <td>-0.037037</td>\n",
       "      <td>0.000000</td>\n",
       "      <td>-0.061728</td>\n",
       "      <td>-0.040000</td>\n",
       "      <td>0.067568</td>\n",
       "      <td>0.027027</td>\n",
       "      <td>0.078947</td>\n",
       "    </tr>\n",
       "  </tbody>\n",
       "</table>\n",
       "<p>229 rows × 7 columns</p>\n",
       "</div>"
      ],
      "text/plain": [
       "              gas       oil       car    flight     hotel       beef      milk\n",
       "2004-02 -0.142857  0.500000 -0.079365 -0.360000  0.098039  -0.142857  0.333333\n",
       "2004-03  0.333333 -0.111111  0.051724  1.125000  0.214286  -0.083333  0.750000\n",
       "2004-04  0.250000  0.000000  0.065574 -0.235294 -0.264706  -0.909091 -0.441558\n",
       "2004-05  1.300000  0.625000 -0.076923 -0.307692  0.200000  14.000000  0.604651\n",
       "2004-06 -0.565217 -0.230769  0.116667  1.277778 -0.166667   0.066667 -0.246377\n",
       "...           ...       ...       ...       ...       ...        ...       ...\n",
       "2022-10  0.028571  0.038462  0.025974 -0.059524 -0.128205  -0.030303 -0.089744\n",
       "2022-11 -0.222222 -0.111111 -0.088608  0.063291 -0.029412  -0.015625  0.014085\n",
       "2022-12  0.071429 -0.041667  0.027778  0.000000  0.045455   0.365079 -0.138889\n",
       "2023-01 -0.100000 -0.130435  0.094595  0.190476  0.072464  -0.139535  0.225806\n",
       "2023-02 -0.037037  0.000000 -0.061728 -0.040000  0.067568   0.027027  0.078947\n",
       "\n",
       "[229 rows x 7 columns]"
      ]
     },
     "execution_count": 97,
     "metadata": {},
     "output_type": "execute_result"
    }
   ],
   "source": [
    "Data_trend"
   ]
  },
  {
   "cell_type": "code",
   "execution_count": null,
   "metadata": {},
   "outputs": [],
   "source": []
  }
 ],
 "metadata": {
  "kernelspec": {
   "display_name": "Python 3",
   "language": "python",
   "name": "python3"
  },
  "language_info": {
   "codemirror_mode": {
    "name": "ipython",
    "version": 3
   },
   "file_extension": ".py",
   "mimetype": "text/x-python",
   "name": "python",
   "nbconvert_exporter": "python",
   "pygments_lexer": "ipython3",
   "version": "3.8.5"
  }
 },
 "nbformat": 4,
 "nbformat_minor": 4
}
